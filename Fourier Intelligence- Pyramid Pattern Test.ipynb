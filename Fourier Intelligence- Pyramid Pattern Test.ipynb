{
 "cells": [
  {
   "cell_type": "code",
   "execution_count": 43,
   "metadata": {},
   "outputs": [
    {
     "name": "stdout",
     "output_type": "stream",
     "text": [
      "Enter the number of rows:16\n",
      "                                             1  \n",
      "                                          1  2  \n",
      "                                       1  2  3  \n",
      "                                    1  2  3  4  \n",
      "                                 1  2  3  4  5  \n",
      "                              1  2  3  4  5  6  \n",
      "                           1  2  3  4  5  6  7  \n",
      "                        1  2  3  4  5  6  7  8  \n",
      "                     1  2  3  4  5  6  7  8  9  \n",
      "                  1  2  3  4  5  6  7  8  9  10  \n",
      "               1  2  3  4  5  6  7  8  9  10  11  \n",
      "            1  2  3  4  5  6  7  8  9  10  11  12  \n",
      "         1  2  3  4  5  6  7  8  9  10  11  12  13  \n",
      "      1  2  3  4  5  6  7  8  9  10  11  12  13  14  \n",
      "   1  2  3  4  5  6  7  8  9  10  11  12  13  14  15  \n",
      "1  2  3  4  5  6  7  8  9  10  11  12  13  14  15  16  \n",
      "                                             1  \n",
      "                                          1  2  \n",
      "                                       1  2  3  \n",
      "                                    1  2  3  4  \n",
      "                                 1  2  3  4  5  \n",
      "                              1  2  3  4  5  6  \n",
      "                           1  2  3  4  5  6  7  \n",
      "                        1  2  3  4  5  6  7  8  \n",
      "                     1  2  3  4  5  6  7  8  9  \n",
      "                  1  2  3  4  5  6  7  8  9  10  \n",
      "               1  2  3  4  5  6  7  8  9  10  11  \n",
      "            1  2  3  4  5  6  7  8  9  10  11  12  \n",
      "         1  2  3  4  5  6  7  8  9  10  11  12  13  \n",
      "      1  2  3  4  5  6  7  8  9  10  11  12  13  14  \n",
      "   1  2  3  4  5  6  7  8  9  10  11  12  13  14  15  \n",
      "1  2  3  4  5  6  7  8  9  10  11  12  13  14  15  16  \n"
     ]
    }
   ],
   "source": [
    "n = int(input(\"Enter the number of rows:\"))\n",
    "\n",
    "for i in range (n):\n",
    "    for j in range (n-i-1):\n",
    "        print (\" \", end=\"  \")\n",
    "    for j in range (i+1):\n",
    "        print (j+1,end=\"  \")\n",
    "    print ()\n",
    "    \n",
    "for i in range (n):\n",
    "    for j in range (n-i-1):\n",
    "        print (\" \", end=\"  \")\n",
    "    for j in range (i+1):\n",
    "        print (j+1,end=\"  \")\n",
    "    print ()"
   ]
  },
  {
   "cell_type": "code",
   "execution_count": 16,
   "metadata": {},
   "outputs": [
    {
     "name": "stdout",
     "output_type": "stream",
     "text": [
      "                              1 \n",
      "                            1 2 \n",
      "                          1 2 3 \n",
      "                        1 2 3 4 \n",
      "                      1 2 3 4 5 \n",
      "                    1 2 3 4 5 6 \n",
      "                  1 2 3 4 5 6 7 \n",
      "                1 2 3 4 5 6 7 8 \n",
      "              1 2 3 4 5 6 7 8 9 \n",
      "            1 2 3 4 5 6 7 8 9 10 \n",
      "          1 2 3 4 5 6 7 8 9 10 11 \n",
      "        1 2 3 4 5 6 7 8 9 10 11 12 \n",
      "      1 2 3 4 5 6 7 8 9 10 11 12 13 \n",
      "    1 2 3 4 5 6 7 8 9 10 11 12 13 14 \n",
      "  1 2 3 4 5 6 7 8 9 10 11 12 13 14 15 \n"
     ]
    }
   ],
   "source": [
    "#Indicate the number of rows needed\n",
    "rows = 16\n",
    "\n",
    "for i in range(1, rows):\n",
    "    num = 1\n",
    "    for j in range(rows, 0, -1):\n",
    "        if j > i:\n",
    "            print(\" \", end=' ')\n",
    "        else:\n",
    "            print(num, end=' ')\n",
    "            num += 1\n",
    "    print(\"\")"
   ]
  },
  {
   "cell_type": "code",
   "execution_count": 56,
   "metadata": {},
   "outputs": [
    {
     "name": "stdout",
     "output_type": "stream",
     "text": [
      "                              1 \n",
      "                            1 2 \n",
      "                          1 2 3 \n",
      "                        1 2 3 4 \n",
      "                      1 2 3 4 5 \n",
      "                    1 2 3 4 5 6 \n",
      "                  1 2 3 4 5 6 7 \n",
      "                1 2 3 4 5 6 7 8 \n",
      "              1 2 3 4 5 6 7 8 9 \n",
      "            1 2 3 4 5 6 7 8 9 10 \n",
      "          1 2 3 4 5 6 7 8 9 10 11 \n",
      "        1 2 3 4 5 6 7 8 9 10 11 12 \n",
      "      1 2 3 4 5 6 7 8 9 10 11 12 13 \n",
      "    1 2 3 4 5 6 7 8 9 10 11 12 13 14 \n",
      "  1 2 3 4 5 6 7 8 9 10 11 12 13 14 15 \n",
      "1 2 3 4 5 6 7 8 9 10 11 12 13 14 15 16 \n",
      "                              1 \n",
      "                            1 2 \n",
      "                          1 2 3 \n",
      "                        1 2 3 4 \n",
      "                      1 2 3 4 5 \n",
      "                    1 2 3 4 5 6 \n",
      "                  1 2 3 4 5 6 7 \n",
      "                1 2 3 4 5 6 7 8 \n",
      "              1 2 3 4 5 6 7 8 9 \n",
      "            1 2 3 4 5 6 7 8 9 10 \n",
      "          1 2 3 4 5 6 7 8 9 10 11 \n",
      "        1 2 3 4 5 6 7 8 9 10 11 12 \n",
      "      1 2 3 4 5 6 7 8 9 10 11 12 13 \n",
      "    1 2 3 4 5 6 7 8 9 10 11 12 13 14 \n",
      "  1 2 3 4 5 6 7 8 9 10 11 12 13 14 15 \n",
      "1 2 3 4 5 6 7 8 9 10 11 12 13 14 15 16 \n"
     ]
    }
   ],
   "source": [
    "size = 16\n",
    "\n",
    "#First triangle \n",
    "for i in range(size):\n",
    "    for j in range(1,size -i):\n",
    "        print(\" \", end=\" \")\n",
    "    for k in range(1, i + 2):\n",
    "        print(k, end=\" \")\n",
    "    print()\n",
    "\n",
    "#Second triangle\n",
    "for i in range(size):\n",
    "    for j in range(1, size - i):\n",
    "        print(\" \", end=\" \")\n",
    "    for k in range(1, i + 2):\n",
    "        print(k, end=\" \")\n",
    "    print()"
   ]
  },
  {
   "cell_type": "code",
   "execution_count": null,
   "metadata": {},
   "outputs": [],
   "source": []
  }
 ],
 "metadata": {
  "kernelspec": {
   "display_name": "Python 3",
   "language": "python",
   "name": "python3"
  },
  "language_info": {
   "codemirror_mode": {
    "name": "ipython",
    "version": 3
   },
   "file_extension": ".py",
   "mimetype": "text/x-python",
   "name": "python",
   "nbconvert_exporter": "python",
   "pygments_lexer": "ipython3",
   "version": "3.7.6"
  }
 },
 "nbformat": 4,
 "nbformat_minor": 4
}
