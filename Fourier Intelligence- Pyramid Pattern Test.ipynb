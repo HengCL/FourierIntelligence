{
 "cells": [
  {
   "cell_type": "code",
   "execution_count": 1,
   "metadata": {},
   "outputs": [
    {
     "name": "stdout",
     "output_type": "stream",
     "text": [
      "Enter the number of rows:16\n",
      "                                             16  \n",
      "                                          16  15  \n",
      "                                       16  15  14  \n",
      "                                    16  15  14  13  \n",
      "                                 16  15  14  13  12  \n",
      "                              16  15  14  13  12  11  \n",
      "                           16  15  14  13  12  11  10  \n",
      "                        16  15  14  13  12  11  10  9  \n",
      "                     16  15  14  13  12  11  10  9  8  \n",
      "                  16  15  14  13  12  11  10  9  8  7  \n",
      "               16  15  14  13  12  11  10  9  8  7  6  \n",
      "            16  15  14  13  12  11  10  9  8  7  6  5  \n",
      "         16  15  14  13  12  11  10  9  8  7  6  5  4  \n",
      "      16  15  14  13  12  11  10  9  8  7  6  5  4  3  \n",
      "   16  15  14  13  12  11  10  9  8  7  6  5  4  3  2  \n",
      "16  15  14  13  12  11  10  9  8  7  6  5  4  3  2  1  \n",
      "                                             1  \n",
      "                                          1  2  \n",
      "                                       1  2  3  \n",
      "                                    1  2  3  4  \n",
      "                                 1  2  3  4  5  \n",
      "                              1  2  3  4  5  6  \n",
      "                           1  2  3  4  5  6  7  \n",
      "                        1  2  3  4  5  6  7  8  \n",
      "                     1  2  3  4  5  6  7  8  9  \n",
      "                  1  2  3  4  5  6  7  8  9  10  \n",
      "               1  2  3  4  5  6  7  8  9  10  11  \n",
      "            1  2  3  4  5  6  7  8  9  10  11  12  \n",
      "         1  2  3  4  5  6  7  8  9  10  11  12  13  \n",
      "      1  2  3  4  5  6  7  8  9  10  11  12  13  14  \n",
      "   1  2  3  4  5  6  7  8  9  10  11  12  13  14  15  \n",
      "1  2  3  4  5  6  7  8  9  10  11  12  13  14  15  16  \n"
     ]
    }
   ],
   "source": [
    "n = int(input(\"Enter the number of rows:\"))\n",
    "\n",
    "\n",
    "#For the 1st Triangle\n",
    "\n",
    "#Define the rows that is required. n= number of rows required.\n",
    "for i in range (n):\n",
    "    \n",
    "#Empty spaces are needed to mirror the triangle on the opposite direction.\n",
    "    for j in range (n-i-1):\n",
    "        print (\" \", end=\"  \")\n",
    "        \n",
    "#This part of the code arrange the column to start with n.\n",
    "    for j in range (i+1):\n",
    "        print (n-j,end=\"  \")\n",
    "    print ()\n",
    "\n",
    "    \n",
    "    \n",
    "#For the 2nd Triangle\n",
    "\n",
    "for i in range (n):\n",
    "    for j in range (n-i-1):\n",
    "        print (\" \", end=\"  \")\n",
    "    for j in range (i+1):\n",
    "        print (j+1,end=\"  \")\n",
    "    print ()"
   ]
  },
  {
   "cell_type": "code",
   "execution_count": null,
   "metadata": {},
   "outputs": [],
   "source": []
  }
 ],
 "metadata": {
  "kernelspec": {
   "display_name": "Python 3",
   "language": "python",
   "name": "python3"
  },
  "language_info": {
   "codemirror_mode": {
    "name": "ipython",
    "version": 3
   },
   "file_extension": ".py",
   "mimetype": "text/x-python",
   "name": "python",
   "nbconvert_exporter": "python",
   "pygments_lexer": "ipython3",
   "version": "3.7.6"
  }
 },
 "nbformat": 4,
 "nbformat_minor": 4
}
